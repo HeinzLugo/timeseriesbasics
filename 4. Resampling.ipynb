{
 "cells": [
  {
   "cell_type": "code",
   "execution_count": 1,
   "metadata": {
    "collapsed": true
   },
   "outputs": [],
   "source": [
    "import pandas as pd\n",
    "import numpy as np"
   ]
  },
  {
   "cell_type": "code",
   "execution_count": 4,
   "metadata": {},
   "outputs": [
    {
     "data": {
      "text/plain": [
       "2011-01-01 00:00:00    2.116945\n",
       "2011-01-01 01:00:00   -1.691962\n",
       "2011-01-01 02:00:00    0.808121\n",
       "2011-01-01 03:00:00    0.135274\n",
       "2011-01-01 04:00:00   -1.060183\n",
       "Freq: H, dtype: float64"
      ]
     },
     "execution_count": 4,
     "metadata": {},
     "output_type": "execute_result"
    }
   ],
   "source": [
    "rng = pd.date_range('1/1/2011', periods=72, freq='H')\n",
    "ts = pd.Series(np.random.randn(len(rng)), index=rng)\n",
    "ts.head()"
   ]
  },
  {
   "cell_type": "markdown",
   "metadata": {},
   "source": [
    "## Resampling\n",
    "\n",
    "There are two methods to resample the data.\n",
    "1. Asfreq: Returns the original data sampled at the new index. If no data exists for the specified new index NaN is returned.\n",
    "1. Resample: Returns a summarised version of the data sampled at a new index. For example if the new index is from 1 second to 3 seconds the new value could be the sum of the mean of the previous values."
   ]
  },
  {
   "cell_type": "code",
   "execution_count": 12,
   "metadata": {},
   "outputs": [
    {
     "name": "stdout",
     "output_type": "stream",
     "text": [
      "                       0\n",
      "2000-01-01 00:00:00  0.0\n",
      "2000-01-01 00:01:00  NaN\n",
      "2000-01-01 00:02:00  2.0\n",
      "2000-01-01 00:03:00  3.0\n",
      "                       0\n",
      "2000-01-01 00:00:00  0.0\n",
      "2000-01-01 00:01:30  NaN\n",
      "2000-01-01 00:03:00  3.0\n"
     ]
    }
   ],
   "source": [
    "## Example asfreq\n",
    "index = pd.date_range(start='1/1/2000', periods=4, freq='T')\n",
    "original_df = pd.DataFrame(data=[0.0, None, 2.0, 3.0], index=index)\n",
    "print(original_df)\n",
    "resampled_df = original_df.asfreq(freq='1.5T')\n",
    "print(resampled_df) ##NaN on 1:30 because there is no data for that value."
   ]
  },
  {
   "cell_type": "code",
   "execution_count": 18,
   "metadata": {},
   "outputs": [
    {
     "name": "stdout",
     "output_type": "stream",
     "text": [
      "2000-01-01 00:00:00    0\n",
      "2000-01-01 00:01:00    1\n",
      "2000-01-01 00:02:00    2\n",
      "2000-01-01 00:03:00    3\n",
      "2000-01-01 00:04:00    4\n",
      "2000-01-01 00:05:00    5\n",
      "2000-01-01 00:06:00    6\n",
      "2000-01-01 00:07:00    7\n",
      "2000-01-01 00:08:00    8\n",
      "Freq: T, dtype: int64\n"
     ]
    },
    {
     "data": {
      "text/plain": [
       "2000-01-01 00:00:00     1\n",
       "2000-01-01 00:01:15     2\n",
       "2000-01-01 00:02:30     3\n",
       "2000-01-01 00:03:45     4\n",
       "2000-01-01 00:05:00    11\n",
       "2000-01-01 00:06:15     7\n",
       "2000-01-01 00:07:30     8\n",
       "Freq: 75S, dtype: int64"
      ]
     },
     "execution_count": 18,
     "metadata": {},
     "output_type": "execute_result"
    }
   ],
   "source": [
    "## Example resample.\n",
    "index = pd.date_range('1/1/2000', periods=9, freq='T')\n",
    "series = pd.Series(range(9), index=index)\n",
    "print(series)\n",
    "series.resample('1.25T').sum()"
   ]
  },
  {
   "cell_type": "markdown",
   "metadata": {},
   "source": [
    "## Methods for filling missing data points.\n",
    "1. bfill: Uses the data from the next existing point in the original dataframe/series.\n",
    "1. ffill: Uses the data from the previous existing point in the original dataframe/series.\n",
    "1. None: Shows NaN for time indexes where no data exists.\n",
    "1. pad: same as ffill"
   ]
  },
  {
   "cell_type": "code",
   "execution_count": 23,
   "metadata": {},
   "outputs": [
    {
     "data": {
      "text/plain": [
       "2011-01-01 00:00:00    2.116945\n",
       "2011-01-01 01:00:00   -1.691962\n",
       "2011-01-01 02:00:00    0.808121\n",
       "2011-01-01 03:00:00    0.135274\n",
       "2011-01-01 04:00:00   -1.060183\n",
       "Freq: H, dtype: float64"
      ]
     },
     "execution_count": 23,
     "metadata": {},
     "output_type": "execute_result"
    }
   ],
   "source": [
    "ts.head()"
   ]
  },
  {
   "cell_type": "code",
   "execution_count": 21,
   "metadata": {},
   "outputs": [
    {
     "data": {
      "text/plain": [
       "2011-01-01 00:00:00    2.116945\n",
       "2011-01-01 00:45:00    2.116945\n",
       "2011-01-01 01:30:00   -1.691962\n",
       "2011-01-01 02:15:00    0.808121\n",
       "2011-01-01 03:00:00    0.135274\n",
       "Freq: 45T, dtype: float64"
      ]
     },
     "execution_count": 21,
     "metadata": {},
     "output_type": "execute_result"
    }
   ],
   "source": [
    "converted = ts.asfreq('45Min', method='pad')\n",
    "converted.head()"
   ]
  },
  {
   "cell_type": "code",
   "execution_count": null,
   "metadata": {
    "collapsed": true
   },
   "outputs": [],
   "source": [
    "# Does asfreq change the # of rows?"
   ]
  },
  {
   "cell_type": "code",
   "execution_count": null,
   "metadata": {},
   "outputs": [],
   "source": [
    "# What do the different methods do?\n",
    "# method : {‘backfill’, ‘bfill’, ‘pad’, ‘ffill’, None}"
   ]
  },
  {
   "cell_type": "code",
   "execution_count": null,
   "metadata": {},
   "outputs": [],
   "source": [
    "# Might any of these methods have pitfalls from a logical point of view?"
   ]
  },
  {
   "cell_type": "code",
   "execution_count": 25,
   "metadata": {},
   "outputs": [
    {
     "data": {
      "text/plain": [
       "2011-01-01 00:00:00    2.116945\n",
       "2011-01-01 01:00:00   -1.691962\n",
       "2011-01-01 02:00:00    0.808121\n",
       "2011-01-01 03:00:00    0.135274\n",
       "2011-01-01 04:00:00   -1.060183\n",
       "Freq: H, dtype: float64"
      ]
     },
     "execution_count": 25,
     "metadata": {},
     "output_type": "execute_result"
    }
   ],
   "source": [
    "# What's the difference between going to a higher frequency and a lower frequency?\n",
    "ts.head()"
   ]
  },
  {
   "cell_type": "code",
   "execution_count": 27,
   "metadata": {},
   "outputs": [
    {
     "data": {
      "text/plain": [
       "2011-01-01 00:00:00    2.116945\n",
       "2011-01-01 01:30:00    0.808121\n",
       "2011-01-01 03:00:00    0.135274\n",
       "2011-01-01 04:30:00    1.293753\n",
       "2011-01-01 06:00:00   -0.072679\n",
       "Freq: 90T, dtype: float64"
      ]
     },
     "execution_count": 27,
     "metadata": {},
     "output_type": "execute_result"
    }
   ],
   "source": [
    "converted = ts.asfreq('90Min', method = 'bfill')\n",
    "converted.head()"
   ]
  },
  {
   "cell_type": "code",
   "execution_count": null,
   "metadata": {
    "collapsed": true
   },
   "outputs": [],
   "source": [
    "# What's different logically about going to a higher frequency vs a lower frequency? \n",
    "# What do you want to do when switching to a lower freqeuncy that is not logical when switching to a higher frequency?"
   ]
  },
  {
   "cell_type": "code",
   "execution_count": 28,
   "metadata": {},
   "outputs": [
    {
     "data": {
      "text/plain": [
       "2011-01-01    1.549852\n",
       "2011-01-02    1.012978\n",
       "2011-01-03    0.130671\n",
       "Freq: D, dtype: float64"
      ]
     },
     "execution_count": 28,
     "metadata": {},
     "output_type": "execute_result"
    }
   ],
   "source": [
    "ts.resample('D').sum()"
   ]
  },
  {
   "cell_type": "code",
   "execution_count": null,
   "metadata": {
    "collapsed": true
   },
   "outputs": [],
   "source": [
    "# What if you want to downsample and you don't want to ffill or bfill?"
   ]
  },
  {
   "cell_type": "code",
   "execution_count": null,
   "metadata": {
    "collapsed": true
   },
   "outputs": [],
   "source": [
    "# What is the difference between .resample() and .asfreq()?"
   ]
  },
  {
   "cell_type": "code",
   "execution_count": 29,
   "metadata": {},
   "outputs": [
    {
     "data": {
      "text/plain": [
       "2011-01-02 07:00:00    0.972082\n",
       "2011-01-02 15:00:00   -0.645808\n",
       "2011-01-01 00:00:00    2.116945\n",
       "2011-01-02 16:00:00    1.619889\n",
       "2011-01-02 02:00:00   -1.819982\n",
       "2011-01-02 22:00:00   -1.024537\n",
       "2011-01-01 01:00:00   -1.691962\n",
       "2011-01-03 02:00:00    1.315676\n",
       "2011-01-03 21:00:00    0.563186\n",
       "2011-01-03 03:00:00    0.866676\n",
       "dtype: float64"
      ]
     },
     "execution_count": 29,
     "metadata": {},
     "output_type": "execute_result"
    }
   ],
   "source": [
    "# What are some special things you can do with .resample() you can't do with .asfreq()?\n",
    "irreg_ts = ts[list(np.random.choice(a = list(range(len(ts))), size = 10, replace=False))]\n",
    "irreg_ts"
   ]
  },
  {
   "cell_type": "code",
   "execution_count": 30,
   "metadata": {},
   "outputs": [
    {
     "data": {
      "text/plain": [
       "2011-01-02 07:00:00    0.972082\n",
       "Freq: D, dtype: float64"
      ]
     },
     "execution_count": 30,
     "metadata": {},
     "output_type": "execute_result"
    }
   ],
   "source": [
    "irreg_ts.asfreq(freq='D')"
   ]
  },
  {
   "cell_type": "code",
   "execution_count": 31,
   "metadata": {
    "collapsed": true
   },
   "outputs": [],
   "source": [
    "irreg_ts = irreg_ts.sort_index()"
   ]
  },
  {
   "cell_type": "code",
   "execution_count": 34,
   "metadata": {},
   "outputs": [
    {
     "name": "stdout",
     "output_type": "stream",
     "text": [
      "2011-01-01    2.116945\n",
      "2011-01-02         NaN\n",
      "2011-01-03         NaN\n",
      "Freq: D, dtype: float64\n",
      "2011-01-01    2.116945\n",
      "2011-01-02   -1.819982\n",
      "2011-01-03    1.315676\n",
      "Freq: D, dtype: float64\n",
      "2011-01-01    0.212491\n",
      "2011-01-02   -0.179671\n",
      "2011-01-03    0.915179\n",
      "Freq: D, dtype: float64\n"
     ]
    }
   ],
   "source": [
    "print(irreg_ts.asfreq(freq='D'))\n",
    "print(irreg_ts.asfreq(freq='D', method='bfill'))\n",
    "print(irreg_ts.resample(rule='D').mean())"
   ]
  },
  {
   "cell_type": "code",
   "execution_count": null,
   "metadata": {
    "collapsed": true
   },
   "outputs": [],
   "source": []
  }
 ],
 "metadata": {
  "kernelspec": {
   "display_name": "Python 3",
   "language": "python",
   "name": "python3"
  },
  "language_info": {
   "codemirror_mode": {
    "name": "ipython",
    "version": 3
   },
   "file_extension": ".py",
   "mimetype": "text/x-python",
   "name": "python",
   "nbconvert_exporter": "python",
   "pygments_lexer": "ipython3",
   "version": "3.6.3"
  },
  "widgets": {
   "state": {},
   "version": "1.1.1"
  }
 },
 "nbformat": 4,
 "nbformat_minor": 1
}
